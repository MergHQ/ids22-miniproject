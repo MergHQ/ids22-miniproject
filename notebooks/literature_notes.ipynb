{
 "cells": [
  {
   "cell_type": "markdown",
   "id": "376e73ca",
   "metadata": {},
   "source": [
    "# Notes on possible models to forecast the price of electricity"
   ]
  },
  {
   "cell_type": "markdown",
   "id": "8de2f4ba",
   "metadata": {},
   "source": [
    "### Notes on how electricity markets differ from other markets\n",
    "- All notes from this article: https://arxiv.org/pdf/2204.11735.pdf\n",
    "- The power system stabilitys requires a constant balance between production and consumption, which leads to most of the electrity being sold beforehand in the form of futures\n",
    "    - Elecitricity companies try to forecast the price in order to maximize their profits\n",
    "- Short-term vs. long-term: short term means real-time or day-ahead and these prices exhibit significant price spikes. In the long-term, prices are averaged accross weekly, monthly or annual delivery periods and seasonality no longer playes such a significant role.\n",
    "- "
   ]
  },
  {
   "cell_type": "markdown",
   "id": "fe2ba360",
   "metadata": {},
   "source": [
    "### A concise article on what may affect the electricity prices in Finland next winter: https://yle.fi/news/3-12566509"
   ]
  },
  {
   "cell_type": "markdown",
   "id": "ae1e4c43",
   "metadata": {},
   "source": [
    "Explanatory variables introduced in the article:\n",
    "- supply in Finland and in neighboring countries\n",
    "    - whether there will be new power plants that could help in compensating for the drop in energy imports from Russia\n",
    "    - wind\n",
    "    - sun\n",
    "- the price of gas\n",
    "- consumption\n",
    "    - how cold it will be\n",
    "    - how much snow there will be"
   ]
  },
  {
   "cell_type": "markdown",
   "id": "26994ddb",
   "metadata": {},
   "source": [
    "### A machine learning project on the day ahead markets\n",
    "- https://github.com/Carterbouley/ElectricityPricePrediction"
   ]
  },
  {
   "cell_type": "markdown",
   "id": "da181498",
   "metadata": {},
   "source": [
    "### Source code for a simple machine learning project on predicting long-term (?) electricity prices\n",
    "- https://thecleverprogrammer.com/2021/11/15/electricity-price-prediction-with-machine-learning/"
   ]
  },
  {
   "cell_type": "code",
   "execution_count": null,
   "id": "b6fe58da",
   "metadata": {},
   "outputs": [],
   "source": []
  }
 ],
 "metadata": {
  "kernelspec": {
   "display_name": "Python 3 (ipykernel)",
   "language": "python",
   "name": "python3"
  },
  "language_info": {
   "codemirror_mode": {
    "name": "ipython",
    "version": 3
   },
   "file_extension": ".py",
   "mimetype": "text/x-python",
   "name": "python",
   "nbconvert_exporter": "python",
   "pygments_lexer": "ipython3",
   "version": "3.9.7"
  }
 },
 "nbformat": 4,
 "nbformat_minor": 5
}
